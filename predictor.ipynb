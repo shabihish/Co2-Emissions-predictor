{
 "cells": [
  {
   "cell_type": "markdown",
   "id": "4fd22def-dc58-460e-910d-d37e01ed8a4e",
   "metadata": {},
   "source": [
    "# Statistical Analytics for Test Set Prdiction\n",
    "In this notebook, we will first preprocess and visualize the *FuelConsumptionCo2* dataset, and second, develop a Linear Regression model for data prediction for yet unknown Co2 emission points with respect to a given variable.\n",
    "\n",
    "Missing value prediction is becoming more and more important in today's datasets due to the fact that most of these datsets do contain missing values or maybe it's crucial to predict the target feature for unknown input features in the dataset. Here, we'll be using a very simple, linear model for this prediction and will apply that to the most linear feature with the target feature as the input. There are much better functions that can predict out output as multiple variables may come into play, though our current model will be much more basic.\n",
    "\n",
    "**Precedural Clarification**: This process, after the inclusion of the nesseccery packages and the dataset, includes several data visulization steps for gaining more intuition into the data at certain points; a preprocesssing step, for getting more robust, optimized, and regularized outputs; and a final Linear Regression implementation for data prediction with respect to a number of variables."
   ]
  },
  {
   "cell_type": "markdown",
   "id": "06bdcee1-6ab9-4e81-a17c-7ce3ff473747",
   "metadata": {},
   "source": [
    "## 1 - Packages\n",
    "First, we import all the python packages that we'll need during this assignment.\n",
    "\n",
    "- [numpy](https://www.numpy.org/) is the fundamental package for scientific computing with Python\n",
    "- [pandas](https://pandas.pydata.org/) is a fast, powerful, flexible and easy to use open source data analysis and manipulation tool\n",
    "- [matplotlib](https://matplotlib.org/) is a comprehensive library for creating static, animated, and interactive visualizations in Python"
   ]
  },
  {
   "cell_type": "code",
   "execution_count": 309,
   "id": "00fb5d30-528f-4996-a341-f99c225e549e",
   "metadata": {},
   "outputs": [],
   "source": [
    "import numpy as np\n",
    "import pandas as pd\n",
    "import matplotlib.pyplot as plt\n",
    "\n",
    "# Setting matplotlib plotting options\n",
    "plt.rcParams['axes.titlesize'] = 12\n",
    "\n",
    "%matplotlib inline"
   ]
  },
  {
   "cell_type": "markdown",
   "id": "5336055e-dc18-482c-b849-c4d052c569d2",
   "metadata": {},
   "source": [
    "## 2 - Dataset\n",
    "We will use the *FuelConsumptionCo2* dataset as given in the input for this problem. This dataset contains a set of data about a number of cars with their respective technical specifictions and the correspoding average fuel consumption as calculated under different circumstances. We use this data to derive our test/train sets as well.\n",
    "\n",
    "The dataset fields are as follows:\n",
    "- Production Year\n",
    "- Make\n",
    "- car Model\n",
    "- Class\n",
    "- Engine Size\n",
    "- Number of Cylindars\n",
    "- Transmission Type\n",
    "- Fuel Type\n",
    "- Fuel Consumption: City\n",
    "- Fuel Consumption: Hwy\n",
    "- Fuel Consumption: City and Hwy\n",
    "- Fuel Consumption [MPG]: City and Hwy\n",
    "- Co2 Emissions\n",
    "\n",
    "First, we load the dataset into a pandas *DataFrame*. For this, we call `read_csv()` on the input file."
   ]
  },
  {
   "cell_type": "code",
   "execution_count": 296,
   "id": "5a635bcf-fdb9-4ad9-91d6-99a97547f793",
   "metadata": {},
   "outputs": [],
   "source": [
    "df = pd.read_csv('datasets/FuelConsumptionCo2.csv')"
   ]
  },
  {
   "cell_type": "markdown",
   "id": "a5538385-c3fb-41d7-949a-90ddc91dc91f",
   "metadata": {},
   "source": [
    "### 2.1 - Dataset Description\n",
    "In the following section, we'll show the structure of the dataset. This includes:\n",
    "- The use of `head()` to get the 5 rows at the top of the dataset\n",
    "- The use of `tail()` to get the 5 bottom most row of the dataset\n",
    "- The use of `describe()` for an overall summary view of the dataset contents"
   ]
  },
  {
   "cell_type": "code",
   "execution_count": 297,
   "id": "04bd885c-a0e1-4653-b598-a18dd882fe13",
   "metadata": {},
   "outputs": [
    {
     "data": {
      "text/html": [
       "<div>\n",
       "<style scoped>\n",
       "    .dataframe tbody tr th:only-of-type {\n",
       "        vertical-align: middle;\n",
       "    }\n",
       "\n",
       "    .dataframe tbody tr th {\n",
       "        vertical-align: top;\n",
       "    }\n",
       "\n",
       "    .dataframe thead th {\n",
       "        text-align: right;\n",
       "    }\n",
       "</style>\n",
       "<table border=\"1\" class=\"dataframe\">\n",
       "  <thead>\n",
       "    <tr style=\"text-align: right;\">\n",
       "      <th></th>\n",
       "      <th>Unnamed: 0</th>\n",
       "      <th>MODELYEAR</th>\n",
       "      <th>MAKE</th>\n",
       "      <th>MODEL</th>\n",
       "      <th>VEHICLECLASS</th>\n",
       "      <th>ENGINESIZE</th>\n",
       "      <th>CYLINDERS</th>\n",
       "      <th>TRANSMISSION</th>\n",
       "      <th>FUELTYPE</th>\n",
       "      <th>FUELCONSUMPTION_CITY</th>\n",
       "      <th>FUELCONSUMPTION_HWY</th>\n",
       "      <th>FUELCONSUMPTION_COMB</th>\n",
       "      <th>FUELCONSUMPTION_COMB_MPG</th>\n",
       "      <th>CO2EMISSIONS</th>\n",
       "    </tr>\n",
       "  </thead>\n",
       "  <tbody>\n",
       "    <tr>\n",
       "      <th>0</th>\n",
       "      <td>0</td>\n",
       "      <td>2014</td>\n",
       "      <td>ACURA</td>\n",
       "      <td>ILX</td>\n",
       "      <td>COMPACT</td>\n",
       "      <td>2.0</td>\n",
       "      <td>4.0</td>\n",
       "      <td>AS5</td>\n",
       "      <td>Z</td>\n",
       "      <td>9.9</td>\n",
       "      <td>6.7</td>\n",
       "      <td>8.5</td>\n",
       "      <td>33</td>\n",
       "      <td>196.0</td>\n",
       "    </tr>\n",
       "    <tr>\n",
       "      <th>1</th>\n",
       "      <td>1</td>\n",
       "      <td>2014</td>\n",
       "      <td>ACURA</td>\n",
       "      <td>ILX</td>\n",
       "      <td>COMPACT</td>\n",
       "      <td>2.4</td>\n",
       "      <td>4.0</td>\n",
       "      <td>M6</td>\n",
       "      <td>Z</td>\n",
       "      <td>11.2</td>\n",
       "      <td>7.7</td>\n",
       "      <td>9.6</td>\n",
       "      <td>29</td>\n",
       "      <td>221.0</td>\n",
       "    </tr>\n",
       "    <tr>\n",
       "      <th>2</th>\n",
       "      <td>2</td>\n",
       "      <td>2014</td>\n",
       "      <td>ACURA</td>\n",
       "      <td>ILX HYBRID</td>\n",
       "      <td>COMPACT</td>\n",
       "      <td>1.5</td>\n",
       "      <td>4.0</td>\n",
       "      <td>AV7</td>\n",
       "      <td>Z</td>\n",
       "      <td>6.0</td>\n",
       "      <td>5.8</td>\n",
       "      <td>5.9</td>\n",
       "      <td>48</td>\n",
       "      <td>136.0</td>\n",
       "    </tr>\n",
       "    <tr>\n",
       "      <th>3</th>\n",
       "      <td>3</td>\n",
       "      <td>2014</td>\n",
       "      <td>ACURA</td>\n",
       "      <td>MDX 4WD</td>\n",
       "      <td>SUV - SMALL</td>\n",
       "      <td>3.5</td>\n",
       "      <td>6.0</td>\n",
       "      <td>AS6</td>\n",
       "      <td>Z</td>\n",
       "      <td>12.7</td>\n",
       "      <td>9.1</td>\n",
       "      <td>11.1</td>\n",
       "      <td>25</td>\n",
       "      <td>NaN</td>\n",
       "    </tr>\n",
       "    <tr>\n",
       "      <th>4</th>\n",
       "      <td>4</td>\n",
       "      <td>2014</td>\n",
       "      <td>ACURA</td>\n",
       "      <td>RDX AWD</td>\n",
       "      <td>SUV - SMALL</td>\n",
       "      <td>3.5</td>\n",
       "      <td>6.0</td>\n",
       "      <td>AS6</td>\n",
       "      <td>Z</td>\n",
       "      <td>12.1</td>\n",
       "      <td>8.7</td>\n",
       "      <td>10.6</td>\n",
       "      <td>27</td>\n",
       "      <td>244.0</td>\n",
       "    </tr>\n",
       "  </tbody>\n",
       "</table>\n",
       "</div>"
      ],
      "text/plain": [
       "   Unnamed: 0  MODELYEAR   MAKE       MODEL VEHICLECLASS  ENGINESIZE  \\\n",
       "0           0       2014  ACURA         ILX      COMPACT         2.0   \n",
       "1           1       2014  ACURA         ILX      COMPACT         2.4   \n",
       "2           2       2014  ACURA  ILX HYBRID      COMPACT         1.5   \n",
       "3           3       2014  ACURA     MDX 4WD  SUV - SMALL         3.5   \n",
       "4           4       2014  ACURA     RDX AWD  SUV - SMALL         3.5   \n",
       "\n",
       "   CYLINDERS TRANSMISSION FUELTYPE  FUELCONSUMPTION_CITY  FUELCONSUMPTION_HWY  \\\n",
       "0        4.0          AS5        Z                   9.9                  6.7   \n",
       "1        4.0           M6        Z                  11.2                  7.7   \n",
       "2        4.0          AV7        Z                   6.0                  5.8   \n",
       "3        6.0          AS6        Z                  12.7                  9.1   \n",
       "4        6.0          AS6        Z                  12.1                  8.7   \n",
       "\n",
       "   FUELCONSUMPTION_COMB  FUELCONSUMPTION_COMB_MPG  CO2EMISSIONS  \n",
       "0                   8.5                        33         196.0  \n",
       "1                   9.6                        29         221.0  \n",
       "2                   5.9                        48         136.0  \n",
       "3                  11.1                        25           NaN  \n",
       "4                  10.6                        27         244.0  "
      ]
     },
     "execution_count": 297,
     "metadata": {},
     "output_type": "execute_result"
    }
   ],
   "source": [
    "df.head()"
   ]
  },
  {
   "cell_type": "code",
   "execution_count": 298,
   "id": "a4b56446-6182-42a1-afd9-bf7b04a50711",
   "metadata": {},
   "outputs": [
    {
     "data": {
      "text/html": [
       "<div>\n",
       "<style scoped>\n",
       "    .dataframe tbody tr th:only-of-type {\n",
       "        vertical-align: middle;\n",
       "    }\n",
       "\n",
       "    .dataframe tbody tr th {\n",
       "        vertical-align: top;\n",
       "    }\n",
       "\n",
       "    .dataframe thead th {\n",
       "        text-align: right;\n",
       "    }\n",
       "</style>\n",
       "<table border=\"1\" class=\"dataframe\">\n",
       "  <thead>\n",
       "    <tr style=\"text-align: right;\">\n",
       "      <th></th>\n",
       "      <th>Unnamed: 0</th>\n",
       "      <th>MODELYEAR</th>\n",
       "      <th>MAKE</th>\n",
       "      <th>MODEL</th>\n",
       "      <th>VEHICLECLASS</th>\n",
       "      <th>ENGINESIZE</th>\n",
       "      <th>CYLINDERS</th>\n",
       "      <th>TRANSMISSION</th>\n",
       "      <th>FUELTYPE</th>\n",
       "      <th>FUELCONSUMPTION_CITY</th>\n",
       "      <th>FUELCONSUMPTION_HWY</th>\n",
       "      <th>FUELCONSUMPTION_COMB</th>\n",
       "      <th>FUELCONSUMPTION_COMB_MPG</th>\n",
       "      <th>CO2EMISSIONS</th>\n",
       "    </tr>\n",
       "  </thead>\n",
       "  <tbody>\n",
       "    <tr>\n",
       "      <th>1062</th>\n",
       "      <td>1062</td>\n",
       "      <td>2014</td>\n",
       "      <td>VOLVO</td>\n",
       "      <td>XC60 AWD</td>\n",
       "      <td>SUV - SMALL</td>\n",
       "      <td>3.0</td>\n",
       "      <td>6.0</td>\n",
       "      <td>AS6</td>\n",
       "      <td>X</td>\n",
       "      <td>13.4</td>\n",
       "      <td>9.8</td>\n",
       "      <td>11.8</td>\n",
       "      <td>24</td>\n",
       "      <td>271.0</td>\n",
       "    </tr>\n",
       "    <tr>\n",
       "      <th>1063</th>\n",
       "      <td>1063</td>\n",
       "      <td>2014</td>\n",
       "      <td>VOLVO</td>\n",
       "      <td>XC60 AWD</td>\n",
       "      <td>SUV - SMALL</td>\n",
       "      <td>3.2</td>\n",
       "      <td>6.0</td>\n",
       "      <td>AS6</td>\n",
       "      <td>X</td>\n",
       "      <td>13.2</td>\n",
       "      <td>9.5</td>\n",
       "      <td>11.5</td>\n",
       "      <td>25</td>\n",
       "      <td>264.0</td>\n",
       "    </tr>\n",
       "    <tr>\n",
       "      <th>1064</th>\n",
       "      <td>1064</td>\n",
       "      <td>2014</td>\n",
       "      <td>VOLVO</td>\n",
       "      <td>XC70 AWD</td>\n",
       "      <td>SUV - SMALL</td>\n",
       "      <td>3.0</td>\n",
       "      <td>6.0</td>\n",
       "      <td>AS6</td>\n",
       "      <td>X</td>\n",
       "      <td>13.4</td>\n",
       "      <td>9.8</td>\n",
       "      <td>11.8</td>\n",
       "      <td>24</td>\n",
       "      <td>271.0</td>\n",
       "    </tr>\n",
       "    <tr>\n",
       "      <th>1065</th>\n",
       "      <td>1065</td>\n",
       "      <td>2014</td>\n",
       "      <td>VOLVO</td>\n",
       "      <td>XC70 AWD</td>\n",
       "      <td>SUV - SMALL</td>\n",
       "      <td>3.2</td>\n",
       "      <td>6.0</td>\n",
       "      <td>AS6</td>\n",
       "      <td>X</td>\n",
       "      <td>12.9</td>\n",
       "      <td>9.3</td>\n",
       "      <td>11.3</td>\n",
       "      <td>25</td>\n",
       "      <td>260.0</td>\n",
       "    </tr>\n",
       "    <tr>\n",
       "      <th>1066</th>\n",
       "      <td>1066</td>\n",
       "      <td>2014</td>\n",
       "      <td>VOLVO</td>\n",
       "      <td>XC90 AWD</td>\n",
       "      <td>SUV - STANDARD</td>\n",
       "      <td>3.2</td>\n",
       "      <td>6.0</td>\n",
       "      <td>AS6</td>\n",
       "      <td>X</td>\n",
       "      <td>14.9</td>\n",
       "      <td>10.2</td>\n",
       "      <td>12.8</td>\n",
       "      <td>22</td>\n",
       "      <td>294.0</td>\n",
       "    </tr>\n",
       "  </tbody>\n",
       "</table>\n",
       "</div>"
      ],
      "text/plain": [
       "      Unnamed: 0  MODELYEAR   MAKE     MODEL    VEHICLECLASS  ENGINESIZE  \\\n",
       "1062        1062       2014  VOLVO  XC60 AWD     SUV - SMALL         3.0   \n",
       "1063        1063       2014  VOLVO  XC60 AWD     SUV - SMALL         3.2   \n",
       "1064        1064       2014  VOLVO  XC70 AWD     SUV - SMALL         3.0   \n",
       "1065        1065       2014  VOLVO  XC70 AWD     SUV - SMALL         3.2   \n",
       "1066        1066       2014  VOLVO  XC90 AWD  SUV - STANDARD         3.2   \n",
       "\n",
       "      CYLINDERS TRANSMISSION FUELTYPE  FUELCONSUMPTION_CITY  \\\n",
       "1062        6.0          AS6        X                  13.4   \n",
       "1063        6.0          AS6        X                  13.2   \n",
       "1064        6.0          AS6        X                  13.4   \n",
       "1065        6.0          AS6        X                  12.9   \n",
       "1066        6.0          AS6        X                  14.9   \n",
       "\n",
       "      FUELCONSUMPTION_HWY  FUELCONSUMPTION_COMB  FUELCONSUMPTION_COMB_MPG  \\\n",
       "1062                  9.8                  11.8                        24   \n",
       "1063                  9.5                  11.5                        25   \n",
       "1064                  9.8                  11.8                        24   \n",
       "1065                  9.3                  11.3                        25   \n",
       "1066                 10.2                  12.8                        22   \n",
       "\n",
       "      CO2EMISSIONS  \n",
       "1062         271.0  \n",
       "1063         264.0  \n",
       "1064         271.0  \n",
       "1065         260.0  \n",
       "1066         294.0  "
      ]
     },
     "execution_count": 298,
     "metadata": {},
     "output_type": "execute_result"
    }
   ],
   "source": [
    "df.tail()"
   ]
  },
  {
   "cell_type": "code",
   "execution_count": 299,
   "id": "7bf98336-f32a-436e-9d74-a4e1e9f9e6ae",
   "metadata": {},
   "outputs": [
    {
     "data": {
      "text/html": [
       "<div>\n",
       "<style scoped>\n",
       "    .dataframe tbody tr th:only-of-type {\n",
       "        vertical-align: middle;\n",
       "    }\n",
       "\n",
       "    .dataframe tbody tr th {\n",
       "        vertical-align: top;\n",
       "    }\n",
       "\n",
       "    .dataframe thead th {\n",
       "        text-align: right;\n",
       "    }\n",
       "</style>\n",
       "<table border=\"1\" class=\"dataframe\">\n",
       "  <thead>\n",
       "    <tr style=\"text-align: right;\">\n",
       "      <th></th>\n",
       "      <th>Unnamed: 0</th>\n",
       "      <th>MODELYEAR</th>\n",
       "      <th>ENGINESIZE</th>\n",
       "      <th>CYLINDERS</th>\n",
       "      <th>FUELCONSUMPTION_CITY</th>\n",
       "      <th>FUELCONSUMPTION_HWY</th>\n",
       "      <th>FUELCONSUMPTION_COMB</th>\n",
       "      <th>FUELCONSUMPTION_COMB_MPG</th>\n",
       "      <th>CO2EMISSIONS</th>\n",
       "    </tr>\n",
       "  </thead>\n",
       "  <tbody>\n",
       "    <tr>\n",
       "      <th>count</th>\n",
       "      <td>1067.000000</td>\n",
       "      <td>1067.0</td>\n",
       "      <td>1040.000000</td>\n",
       "      <td>1033.000000</td>\n",
       "      <td>1067.000000</td>\n",
       "      <td>1067.000000</td>\n",
       "      <td>1067.000000</td>\n",
       "      <td>1067.000000</td>\n",
       "      <td>964.000000</td>\n",
       "    </tr>\n",
       "    <tr>\n",
       "      <th>mean</th>\n",
       "      <td>533.000000</td>\n",
       "      <td>2014.0</td>\n",
       "      <td>3.324038</td>\n",
       "      <td>5.797677</td>\n",
       "      <td>13.296532</td>\n",
       "      <td>9.474602</td>\n",
       "      <td>11.580881</td>\n",
       "      <td>26.441425</td>\n",
       "      <td>256.741701</td>\n",
       "    </tr>\n",
       "    <tr>\n",
       "      <th>std</th>\n",
       "      <td>308.160672</td>\n",
       "      <td>0.0</td>\n",
       "      <td>1.411400</td>\n",
       "      <td>1.807262</td>\n",
       "      <td>4.101253</td>\n",
       "      <td>2.794510</td>\n",
       "      <td>3.485595</td>\n",
       "      <td>7.468702</td>\n",
       "      <td>63.265308</td>\n",
       "    </tr>\n",
       "    <tr>\n",
       "      <th>min</th>\n",
       "      <td>0.000000</td>\n",
       "      <td>2014.0</td>\n",
       "      <td>1.000000</td>\n",
       "      <td>3.000000</td>\n",
       "      <td>4.600000</td>\n",
       "      <td>4.900000</td>\n",
       "      <td>4.700000</td>\n",
       "      <td>11.000000</td>\n",
       "      <td>108.000000</td>\n",
       "    </tr>\n",
       "    <tr>\n",
       "      <th>25%</th>\n",
       "      <td>266.500000</td>\n",
       "      <td>2014.0</td>\n",
       "      <td>2.000000</td>\n",
       "      <td>4.000000</td>\n",
       "      <td>10.250000</td>\n",
       "      <td>7.500000</td>\n",
       "      <td>9.000000</td>\n",
       "      <td>21.000000</td>\n",
       "      <td>209.000000</td>\n",
       "    </tr>\n",
       "    <tr>\n",
       "      <th>50%</th>\n",
       "      <td>533.000000</td>\n",
       "      <td>2014.0</td>\n",
       "      <td>3.300000</td>\n",
       "      <td>6.000000</td>\n",
       "      <td>12.600000</td>\n",
       "      <td>8.800000</td>\n",
       "      <td>10.900000</td>\n",
       "      <td>26.000000</td>\n",
       "      <td>251.000000</td>\n",
       "    </tr>\n",
       "    <tr>\n",
       "      <th>75%</th>\n",
       "      <td>799.500000</td>\n",
       "      <td>2014.0</td>\n",
       "      <td>4.200000</td>\n",
       "      <td>8.000000</td>\n",
       "      <td>15.550000</td>\n",
       "      <td>10.850000</td>\n",
       "      <td>13.350000</td>\n",
       "      <td>31.000000</td>\n",
       "      <td>294.000000</td>\n",
       "    </tr>\n",
       "    <tr>\n",
       "      <th>max</th>\n",
       "      <td>1066.000000</td>\n",
       "      <td>2014.0</td>\n",
       "      <td>8.400000</td>\n",
       "      <td>12.000000</td>\n",
       "      <td>30.200000</td>\n",
       "      <td>20.500000</td>\n",
       "      <td>25.800000</td>\n",
       "      <td>60.000000</td>\n",
       "      <td>437.000000</td>\n",
       "    </tr>\n",
       "  </tbody>\n",
       "</table>\n",
       "</div>"
      ],
      "text/plain": [
       "        Unnamed: 0  MODELYEAR   ENGINESIZE    CYLINDERS  FUELCONSUMPTION_CITY  \\\n",
       "count  1067.000000     1067.0  1040.000000  1033.000000           1067.000000   \n",
       "mean    533.000000     2014.0     3.324038     5.797677             13.296532   \n",
       "std     308.160672        0.0     1.411400     1.807262              4.101253   \n",
       "min       0.000000     2014.0     1.000000     3.000000              4.600000   \n",
       "25%     266.500000     2014.0     2.000000     4.000000             10.250000   \n",
       "50%     533.000000     2014.0     3.300000     6.000000             12.600000   \n",
       "75%     799.500000     2014.0     4.200000     8.000000             15.550000   \n",
       "max    1066.000000     2014.0     8.400000    12.000000             30.200000   \n",
       "\n",
       "       FUELCONSUMPTION_HWY  FUELCONSUMPTION_COMB  FUELCONSUMPTION_COMB_MPG  \\\n",
       "count          1067.000000           1067.000000               1067.000000   \n",
       "mean              9.474602             11.580881                 26.441425   \n",
       "std               2.794510              3.485595                  7.468702   \n",
       "min               4.900000              4.700000                 11.000000   \n",
       "25%               7.500000              9.000000                 21.000000   \n",
       "50%               8.800000             10.900000                 26.000000   \n",
       "75%              10.850000             13.350000                 31.000000   \n",
       "max              20.500000             25.800000                 60.000000   \n",
       "\n",
       "       CO2EMISSIONS  \n",
       "count    964.000000  \n",
       "mean     256.741701  \n",
       "std       63.265308  \n",
       "min      108.000000  \n",
       "25%      209.000000  \n",
       "50%      251.000000  \n",
       "75%      294.000000  \n",
       "max      437.000000  "
      ]
     },
     "execution_count": 299,
     "metadata": {},
     "output_type": "execute_result"
    }
   ],
   "source": [
    "df.describe()"
   ]
  },
  {
   "cell_type": "markdown",
   "id": "48df09e8-f3dd-4689-aecb-c7dfad8360e2",
   "metadata": {},
   "source": [
    "### 2.2 - Overall Dataset Info\n",
    "Next, we call `info()` on the dataset to get data types (dTypes) of each of the columns. These will include two main categories: numerical and non-numerical. "
   ]
  },
  {
   "cell_type": "code",
   "execution_count": 300,
   "id": "7c356fc3-02cc-4faf-a13c-979c6cf4f145",
   "metadata": {},
   "outputs": [
    {
     "name": "stdout",
     "output_type": "stream",
     "text": [
      "<class 'pandas.core.frame.DataFrame'>\n",
      "RangeIndex: 1067 entries, 0 to 1066\n",
      "Data columns (total 14 columns):\n",
      " #   Column                    Non-Null Count  Dtype  \n",
      "---  ------                    --------------  -----  \n",
      " 0   Unnamed: 0                1067 non-null   int64  \n",
      " 1   MODELYEAR                 1067 non-null   int64  \n",
      " 2   MAKE                      1067 non-null   object \n",
      " 3   MODEL                     1058 non-null   object \n",
      " 4   VEHICLECLASS              1067 non-null   object \n",
      " 5   ENGINESIZE                1040 non-null   float64\n",
      " 6   CYLINDERS                 1033 non-null   float64\n",
      " 7   TRANSMISSION              1067 non-null   object \n",
      " 8   FUELTYPE                  996 non-null    object \n",
      " 9   FUELCONSUMPTION_CITY      1067 non-null   float64\n",
      " 10  FUELCONSUMPTION_HWY       1067 non-null   float64\n",
      " 11  FUELCONSUMPTION_COMB      1067 non-null   float64\n",
      " 12  FUELCONSUMPTION_COMB_MPG  1067 non-null   int64  \n",
      " 13  CO2EMISSIONS              964 non-null    float64\n",
      "dtypes: float64(6), int64(3), object(5)\n",
      "memory usage: 116.8+ KB\n"
     ]
    }
   ],
   "source": [
    "df.info()"
   ]
  },
  {
   "cell_type": "markdown",
   "id": "715666af-8cb0-4e13-873d-568251373dfb",
   "metadata": {},
   "source": [
    "<font color='blue'>\n",
    "As driven from the above output, the numrical types consist of `float64`  and `int64`, and non-nemrcals are only of type: `object`.\n",
    " \n",
    "<font color='black'>\n",
    "    \n",
    "    \n",
    "    \n",
    "\n",
    "    \n",
    "<b>Data Labling</b>: One way to process non-numerical columns further, is to label each corresponding column of type *object* in a numerical format. For this, we'll be converting `object` typed rows into Pandas Categorties and then using those to replace the actual column to get the column encoded in integers. \n",
    "\n",
    "In fact, in the following piece of code, each line corresponds to the categorial code extraction along with the subsequent column replacement."
   ]
  },
  {
   "cell_type": "code",
   "execution_count": 301,
   "id": "002d96b5-3966-47fb-9d16-086e1efa4d62",
   "metadata": {},
   "outputs": [
    {
     "data": {
      "text/html": [
       "<div>\n",
       "<style scoped>\n",
       "    .dataframe tbody tr th:only-of-type {\n",
       "        vertical-align: middle;\n",
       "    }\n",
       "\n",
       "    .dataframe tbody tr th {\n",
       "        vertical-align: top;\n",
       "    }\n",
       "\n",
       "    .dataframe thead th {\n",
       "        text-align: right;\n",
       "    }\n",
       "</style>\n",
       "<table border=\"1\" class=\"dataframe\">\n",
       "  <thead>\n",
       "    <tr style=\"text-align: right;\">\n",
       "      <th></th>\n",
       "      <th>Unnamed: 0</th>\n",
       "      <th>MODELYEAR</th>\n",
       "      <th>MAKE</th>\n",
       "      <th>MODEL</th>\n",
       "      <th>VEHICLECLASS</th>\n",
       "      <th>ENGINESIZE</th>\n",
       "      <th>CYLINDERS</th>\n",
       "      <th>TRANSMISSION</th>\n",
       "      <th>FUELTYPE</th>\n",
       "      <th>FUELCONSUMPTION_CITY</th>\n",
       "      <th>FUELCONSUMPTION_HWY</th>\n",
       "      <th>FUELCONSUMPTION_COMB</th>\n",
       "      <th>FUELCONSUMPTION_COMB_MPG</th>\n",
       "      <th>CO2EMISSIONS</th>\n",
       "    </tr>\n",
       "  </thead>\n",
       "  <tbody>\n",
       "    <tr>\n",
       "      <th>0</th>\n",
       "      <td>0</td>\n",
       "      <td>2014</td>\n",
       "      <td>0</td>\n",
       "      <td>329</td>\n",
       "      <td>0</td>\n",
       "      <td>2.0</td>\n",
       "      <td>4.0</td>\n",
       "      <td>10</td>\n",
       "      <td>3</td>\n",
       "      <td>9.9</td>\n",
       "      <td>6.7</td>\n",
       "      <td>8.5</td>\n",
       "      <td>33</td>\n",
       "      <td>196.0</td>\n",
       "    </tr>\n",
       "    <tr>\n",
       "      <th>1</th>\n",
       "      <td>1</td>\n",
       "      <td>2014</td>\n",
       "      <td>0</td>\n",
       "      <td>329</td>\n",
       "      <td>0</td>\n",
       "      <td>2.4</td>\n",
       "      <td>4.0</td>\n",
       "      <td>20</td>\n",
       "      <td>3</td>\n",
       "      <td>11.2</td>\n",
       "      <td>7.7</td>\n",
       "      <td>9.6</td>\n",
       "      <td>29</td>\n",
       "      <td>221.0</td>\n",
       "    </tr>\n",
       "    <tr>\n",
       "      <th>2</th>\n",
       "      <td>2</td>\n",
       "      <td>2014</td>\n",
       "      <td>0</td>\n",
       "      <td>330</td>\n",
       "      <td>0</td>\n",
       "      <td>1.5</td>\n",
       "      <td>4.0</td>\n",
       "      <td>17</td>\n",
       "      <td>3</td>\n",
       "      <td>6.0</td>\n",
       "      <td>5.8</td>\n",
       "      <td>5.9</td>\n",
       "      <td>48</td>\n",
       "      <td>136.0</td>\n",
       "    </tr>\n",
       "    <tr>\n",
       "      <th>3</th>\n",
       "      <td>3</td>\n",
       "      <td>2014</td>\n",
       "      <td>0</td>\n",
       "      <td>389</td>\n",
       "      <td>11</td>\n",
       "      <td>3.5</td>\n",
       "      <td>6.0</td>\n",
       "      <td>11</td>\n",
       "      <td>3</td>\n",
       "      <td>12.7</td>\n",
       "      <td>9.1</td>\n",
       "      <td>11.1</td>\n",
       "      <td>25</td>\n",
       "      <td>NaN</td>\n",
       "    </tr>\n",
       "    <tr>\n",
       "      <th>4</th>\n",
       "      <td>4</td>\n",
       "      <td>2014</td>\n",
       "      <td>0</td>\n",
       "      <td>482</td>\n",
       "      <td>11</td>\n",
       "      <td>3.5</td>\n",
       "      <td>6.0</td>\n",
       "      <td>11</td>\n",
       "      <td>3</td>\n",
       "      <td>12.1</td>\n",
       "      <td>8.7</td>\n",
       "      <td>10.6</td>\n",
       "      <td>27</td>\n",
       "      <td>244.0</td>\n",
       "    </tr>\n",
       "  </tbody>\n",
       "</table>\n",
       "</div>"
      ],
      "text/plain": [
       "   Unnamed: 0  MODELYEAR  MAKE  MODEL  VEHICLECLASS  ENGINESIZE  CYLINDERS  \\\n",
       "0           0       2014     0    329             0         2.0        4.0   \n",
       "1           1       2014     0    329             0         2.4        4.0   \n",
       "2           2       2014     0    330             0         1.5        4.0   \n",
       "3           3       2014     0    389            11         3.5        6.0   \n",
       "4           4       2014     0    482            11         3.5        6.0   \n",
       "\n",
       "   TRANSMISSION  FUELTYPE  FUELCONSUMPTION_CITY  FUELCONSUMPTION_HWY  \\\n",
       "0            10         3                   9.9                  6.7   \n",
       "1            20         3                  11.2                  7.7   \n",
       "2            17         3                   6.0                  5.8   \n",
       "3            11         3                  12.7                  9.1   \n",
       "4            11         3                  12.1                  8.7   \n",
       "\n",
       "   FUELCONSUMPTION_COMB  FUELCONSUMPTION_COMB_MPG  CO2EMISSIONS  \n",
       "0                   8.5                        33         196.0  \n",
       "1                   9.6                        29         221.0  \n",
       "2                   5.9                        48         136.0  \n",
       "3                  11.1                        25           NaN  \n",
       "4                  10.6                        27         244.0  "
      ]
     },
     "execution_count": 301,
     "metadata": {},
     "output_type": "execute_result"
    }
   ],
   "source": [
    "df['MAKE'] = df['MAKE'].astype('category').cat.codes\n",
    "df['MODEL'] = df['MODEL'].astype('category').cat.codes\n",
    "df['VEHICLECLASS'] = df['VEHICLECLASS'].astype('category').cat.codes\n",
    "df['TRANSMISSION'] = df['TRANSMISSION'].astype('category').cat.codes\n",
    "df['FUELTYPE'] = df['FUELTYPE'].astype('category').cat.codes\n",
    "\n",
    "# get the head of the df\n",
    "df.head()"
   ]
  },
  {
   "cell_type": "code",
   "execution_count": 302,
   "id": "c8d234de-c96b-43c9-b085-632420d2117b",
   "metadata": {},
   "outputs": [
    {
     "data": {
      "text/plain": [
       "Unnamed: 0                    int64\n",
       "MODELYEAR                     int64\n",
       "MAKE                           int8\n",
       "MODEL                         int16\n",
       "VEHICLECLASS                   int8\n",
       "ENGINESIZE                  float64\n",
       "CYLINDERS                   float64\n",
       "TRANSMISSION                   int8\n",
       "FUELTYPE                       int8\n",
       "FUELCONSUMPTION_CITY        float64\n",
       "FUELCONSUMPTION_HWY         float64\n",
       "FUELCONSUMPTION_COMB        float64\n",
       "FUELCONSUMPTION_COMB_MPG      int64\n",
       "CO2EMISSIONS                float64\n",
       "dtype: object"
      ]
     },
     "execution_count": 302,
     "metadata": {},
     "output_type": "execute_result"
    }
   ],
   "source": [
    "# get data types of the columns of the df\n",
    "df.dtypes"
   ]
  },
  {
   "cell_type": "markdown",
   "id": "63044ca8-166e-4869-b820-668851cf9654",
   "metadata": {},
   "source": [
    "<font color='green'>\n",
    "Seems like data labling has been successful. All columns have been labled correctly in numerical values."
   ]
  },
  {
   "cell_type": "markdown",
   "id": "1175b779-617a-49ee-bd14-d0323a6c7e1a",
   "metadata": {},
   "source": [
    "### 2.3 - Replace Missing values\n",
    "In this step, we'll find and replace corrupted values such as NaN's in the dataframe. This is done via replacing each of the NaN's, with their respective column mean value. This would impose some advantages as well as a number of disadvantages:\n",
    "\n",
    "**Pros**:\n",
    "- Allows preceding without the removal of rows containing NaN values\n",
    "- Slightly reduces the effect of outliers in the dataset (not as much as replacing with the median)\n",
    "**Cons**:\n",
    "- Introduces further noise to the data, as we're not neccessarily replacing the missing values with their original, correct values\n",
    "\n",
    "**Note**: An indirect of effect adding this noise is a slight regularization effect added to the data for DL training. This is because of the fact that we're, by definition, sort of adding a dropout layer with a small `1 - keep_prob`, where the value of `keep_prob` is determined by the level of noise introduced; randomly supressing a number of units' activation in the corresponding layer. But this is just a side effect of this and not to be considered a major influence currently.\n",
    "\n",
    "First, in the following cell, we count the number of missing values in each clumn taking the sum of all the values evaluted to missing, as denoted by Pandas `isna()`, along each of the columns:"
   ]
  },
  {
   "cell_type": "code",
   "execution_count": 303,
   "id": "cf920353-5942-4e96-ad4f-e5442bb5c3db",
   "metadata": {},
   "outputs": [
    {
     "data": {
      "text/plain": [
       "Unnamed: 0                    0\n",
       "MODELYEAR                     0\n",
       "MAKE                          0\n",
       "MODEL                         0\n",
       "VEHICLECLASS                  0\n",
       "ENGINESIZE                   27\n",
       "CYLINDERS                    34\n",
       "TRANSMISSION                  0\n",
       "FUELTYPE                      0\n",
       "FUELCONSUMPTION_CITY          0\n",
       "FUELCONSUMPTION_HWY           0\n",
       "FUELCONSUMPTION_COMB          0\n",
       "FUELCONSUMPTION_COMB_MPG      0\n",
       "CO2EMISSIONS                103\n",
       "dtype: int64"
      ]
     },
     "execution_count": 303,
     "metadata": {},
     "output_type": "execute_result"
    }
   ],
   "source": [
    "def count_nan(df):\n",
    "    return df.isna().sum(axis=0) #axis=0 indicates that we're summing along the vertical axis\n",
    "\n",
    "count_nan(df)"
   ]
  },
  {
   "cell_type": "markdown",
   "id": "84aa44cc-396f-4010-8998-5ebccc05e772",
   "metadata": {},
   "source": [
    "Next, we'll replace the missing values with the mean of column they currently reside in in the following cell. Note that we'll not replace these values in the `CO2EMISSIONS` column as we're to try to predict them using a simple LR model, later in this notebook.\n",
    "\n",
    "`fillna()` will automatically replace each NaN with the corresponding in the given argument. This will be along axis 0 by default."
   ]
  },
  {
   "cell_type": "code",
   "execution_count": 304,
   "id": "f3c833f3-6eac-498c-bfb5-7ba71478a0d7",
   "metadata": {},
   "outputs": [
    {
     "data": {
      "text/plain": [
       "Unnamed: 0                    0\n",
       "MODELYEAR                     0\n",
       "MAKE                          0\n",
       "MODEL                         0\n",
       "VEHICLECLASS                  0\n",
       "ENGINESIZE                    0\n",
       "CYLINDERS                     0\n",
       "TRANSMISSION                  0\n",
       "FUELTYPE                      0\n",
       "FUELCONSUMPTION_CITY          0\n",
       "FUELCONSUMPTION_HWY           0\n",
       "FUELCONSUMPTION_COMB          0\n",
       "FUELCONSUMPTION_COMB_MPG      0\n",
       "CO2EMISSIONS                103\n",
       "dtype: int64"
      ]
     },
     "execution_count": 304,
     "metadata": {},
     "output_type": "execute_result"
    }
   ],
   "source": [
    "df_mean = df.mean(axis=0) # Computing the mean of each of the columns in the dataframe\n",
    "\n",
    "# Replacing missing values in ENGINESIZE and CYLINDERS columns with the column mean\n",
    "df.iloc[:, :-1] = df.iloc[:, :-1].fillna(df_mean)\n",
    "\n",
    "# Count the number of missing values\n",
    "count_nan(df)"
   ]
  },
  {
   "cell_type": "markdown",
   "id": "514cf677-c260-4b0b-9c3d-f89fc2a8fbda",
   "metadata": {},
   "source": [
    "<font color='green'>\n",
    "    \n",
    "All missing values except in the CO2EMISSIONS column are replaced by column means and the opration has been successful."
   ]
  },
  {
   "cell_type": "markdown",
   "id": "d2003c8b-585e-4a81-8320-d6133cc0a12a",
   "metadata": {},
   "source": [
    "## 3 - Dataset Visualization"
   ]
  },
  {
   "cell_type": "markdown",
   "id": "34a154b9-6f2a-4bad-adf5-f56a6ed1f090",
   "metadata": {},
   "source": [
    "### 3.1 - Pandas Vectorization\n",
    "In this section, we'll be calculating the mean of the `FUELCONSUMPTION_CITY` for rows with `CO2EMISSIONS` lower than 240 and 300 respectively in two different ways. First, we'll calculate it using Pandas vectroization which parallelizes the process, and second, we calculate the same thing in a for loop. From the results, the for loop implementation would turn out to be a lot slower in speed.\n",
    "\n",
    "In the following cell, let's do a pandas implementation of this mean claculation process along column `FUELCONSUMPTION_CITY` only for cars that have `CO2EMISSIONS` less than the two given values and take the average running time for each one using `timeit`, an easy to use timing  extension to Jupyter Notebook:"
   ]
  },
  {
   "cell_type": "code",
   "execution_count": 11,
   "id": "5ae474aa-763e-433a-ae15-274bd1937b83",
   "metadata": {},
   "outputs": [],
   "source": [
    "fuelcons_city240 = (df['FUELCONSUMPTION_CITY'])[df['CO2EMISSIONS']<240]\n",
    "fuelcons_city300 = (df['FUELCONSUMPTION_CITY'])[df['CO2EMISSIONS']<300]\n",
    "# fuelcons_city[df['CO2EMISSIONS']<1000]"
   ]
  },
  {
   "cell_type": "code",
   "execution_count": 12,
   "id": "f68fa8aa-c531-45c4-9cc7-ce46834f7662",
   "metadata": {},
   "outputs": [
    {
     "name": "stdout",
     "output_type": "stream",
     "text": [
      "FUELCONSUMPTION_CITY for CO2EMISSIONS < 240 mean is calculated as: 10.037819025522042\n",
      "33.1 µs ± 3.75 µs per loop (mean ± std. dev. of 7 runs, 10000 loops each)\n",
      "\n",
      "\n",
      "FUELCONSUMPTION_CITY for CO2EMISSIONS < 300 mean is calculated as: 11.829773030707624\n",
      "30.7 µs ± 2.88 µs per loop (mean ± std. dev. of 7 runs, 10000 loops each)\n"
     ]
    }
   ],
   "source": [
    "fuelcons_city240 = (df['FUELCONSUMPTION_CITY'])[df['CO2EMISSIONS']<240]\n",
    "fuelcons_city300 = (df['FUELCONSUMPTION_CITY'])[df['CO2EMISSIONS']<300]\n",
    "print('FUELCONSUMPTION_CITY for CO2EMISSIONS < 240 mean is calculated as: {}'.format(fuelcons_city240.mean()))\n",
    "%timeit fuelcons_city240.mean()\n",
    "print('\\n')\n",
    "print('FUELCONSUMPTION_CITY for CO2EMISSIONS < 300 mean is calculated as: {}'.format(fuelcons_city300.mean()))\n",
    "%timeit fuelcons_city300.mean()"
   ]
  },
  {
   "cell_type": "markdown",
   "id": "e08d7326-3cc3-4c7a-890c-251040b02a91",
   "metadata": {},
   "source": [
    "Next, We'll define a function and use it to calculate this mean using a for loop along the given column. This consists of first taking the summation over all values in the given array and then dividing it by the number of total entries."
   ]
  },
  {
   "cell_type": "code",
   "execution_count": 13,
   "id": "739fe1e9-2182-4a8f-b55e-2ea5a9808bf5",
   "metadata": {},
   "outputs": [
    {
     "name": "stdout",
     "output_type": "stream",
     "text": [
      "FUELCONSUMPTION_CITY for CO2EMISSIONS < 240 mean is calculated as: 10.037819025522042\n",
      "2.69 ms ± 541 µs per loop (mean ± std. dev. of 7 runs, 100 loops each)\n",
      "\n",
      "\n",
      "FUELCONSUMPTION_CITY for CO2EMISSIONS < 300 mean is calculated as: 11.829773030707624\n",
      "4.09 ms ± 229 µs per loop (mean ± std. dev. of 7 runs, 100 loops each)\n"
     ]
    }
   ],
   "source": [
    "fuelcons_city240 = (df['FUELCONSUMPTION_CITY'])[df['CO2EMISSIONS']<240]\n",
    "fuelcons_city300 = (df['FUELCONSUMPTION_CITY'])[df['CO2EMISSIONS']<300]\n",
    "\n",
    "def take_series_mean(series):\n",
    "    sum = 0\n",
    "    for i in range(series.shape[0]):\n",
    "        sum += series.iloc[i]\n",
    "    return sum/series.shape[0]\n",
    "\n",
    "print('FUELCONSUMPTION_CITY for CO2EMISSIONS < 240 mean is calculated as: {}'.format(fuelcons_city240.mean()))\n",
    "%timeit take_series_mean(fuelcons_city240)\n",
    "print('\\n')\n",
    "print('FUELCONSUMPTION_CITY for CO2EMISSIONS < 300 mean is calculated as: {}'.format(fuelcons_city300.mean()))\n",
    "%timeit take_series_mean(fuelcons_city300)"
   ]
  },
  {
   "cell_type": "markdown",
   "id": "340c6d07-ae97-451e-b39c-a5f65beba9cb",
   "metadata": {},
   "source": [
    "Turns out while both implementations yield the same value for the final means, the first, vectorized version performs much faster in terms of the running time. \n",
    "\n",
    "On average we get $$\\frac{2690 + 4090}{33.1 + 30.7}*100\\approx\\%10626.95$$ speedup in the vectorized implementation over the loopy version."
   ]
  },
  {
   "cell_type": "markdown",
   "id": "9d3b085a-2d5a-407b-a18c-2f375b011a14",
   "metadata": {},
   "source": [
    "### 3.2 - Histogram Visualization of The Columns\n",
    "We show a histogram of each of the columns in the dataset using Pandas' `hist()`. Using a histogram chart, one will be able to see the statistical distribution of the data for further visual analysis.\n",
    "\n",
    "In this section, we will use a for loop to iterate over all the histograms and plot  "
   ]
  },
  {
   "cell_type": "code",
   "execution_count": 310,
   "id": "0a17814f-2135-4109-ba5c-65f5d2bbd499",
   "metadata": {},
   "outputs": [
    {
     "data": {
      "image/png": "[encoded data removed]",
      "text/plain": [
       "<Figure size 1152x2304 with 16 Axes>"
      ]
     },
     "metadata": {
      "needs_background": "light"
     },
     "output_type": "display_data"
    }
   ],
   "source": [
    "hists = df.iloc[:, 1:].hist(figsize=(16, 32), xlabelsize=20, ylabelsize=20, \n",
    "                            xrot=45, grid = False)"
   ]
  },
  {
   "cell_type": "markdown",
   "id": "cd3d1cac-a094-48c4-ba57-11d3f5233a47",
   "metadata": {},
   "source": [
    "<font color='blue'>\n",
    "Each histogram shows how values of each column of the dataset are distributed, showing what number of values are in each of the given ranges."
   ]
  },
  {
   "cell_type": "markdown",
   "id": "88e67b9e-25ef-4b3b-9e43-3791899b4d95",
   "metadata": {},
   "source": [
    "## 4 - Machine Learning Model\n",
    "In this section, we run a Linear Regression model on the data to predict values of the last row for test set examples. This will include normalization, feature engineering/selection, cost calculation, and parameter optimization steps.\n",
    "\n",
    "**Note**: As we'll not be *training* an actual model in here and just guessing values for parameters of the model so to have more or less an optimized cost on the test set, we'll be ommiting the common forward and back propagation steps; as well as the cost optimization phase based on them."
   ]
  },
  {
   "cell_type": "markdown",
   "id": "688f55fe-b534-4a08-b3f9-a2584dc6b123",
   "metadata": {},
   "source": [
    "### 4.1 - Avoid  Non-Numerical Columns in the Prediction\n",
    "In this section, we'll be eliminating the categorical columns from the dataset, so they don't come in the later linearity checks.\n",
    "\n",
    "In the following cell, we're deleting all the columns with type `object` from the dataset using `drop()` and saving the result in `df_num`:"
   ]
  },
  {
   "cell_type": "code",
   "execution_count": 311,
   "id": "3af0f113-f6dd-4391-95b2-11abaf8b0d72",
   "metadata": {},
   "outputs": [
    {
     "name": "stdout",
     "output_type": "stream",
     "text": [
      "<class 'pandas.core.frame.DataFrame'>\n",
      "RangeIndex: 1067 entries, 0 to 1066\n",
      "Data columns (total 9 columns):\n",
      " #   Column                    Non-Null Count  Dtype  \n",
      "---  ------                    --------------  -----  \n",
      " 0   Unnamed: 0                1067 non-null   int64  \n",
      " 1   MODELYEAR                 1067 non-null   int64  \n",
      " 2   ENGINESIZE                1067 non-null   float64\n",
      " 3   CYLINDERS                 1067 non-null   float64\n",
      " 4   FUELCONSUMPTION_CITY      1067 non-null   float64\n",
      " 5   FUELCONSUMPTION_HWY       1067 non-null   float64\n",
      " 6   FUELCONSUMPTION_COMB      1067 non-null   float64\n",
      " 7   FUELCONSUMPTION_COMB_MPG  1067 non-null   int64  \n",
      " 8   CO2EMISSIONS              964 non-null    float64\n",
      "dtypes: float64(6), int64(3)\n",
      "memory usage: 75.1 KB\n"
     ]
    }
   ],
   "source": [
    "df_num = df.drop(['MAKE', 'MODEL', 'VEHICLECLASS', 'TRANSMISSION', 'FUELTYPE'], axis=1)\n",
    "df_num.info() #print info of the column types of df_num for verification"
   ]
  },
  {
   "cell_type": "markdown",
   "id": "5a211ecd-65ad-415f-a69b-b50bf2301647",
   "metadata": {},
   "source": [
    "<font color='green'>\n",
    "    \n",
    "All such columns have been successfully removed from the dataframe."
   ]
  },
  {
   "cell_type": "markdown",
   "id": "e3d35711-baa1-44c8-8eea-422081fc0024",
   "metadata": {},
   "source": [
    "### 4.2 - Normalization\n",
    "We normalize data in columns so to make learning contours more circular, making learning faster overall. This would also have a slight positive effect on how the model happens to predict on the test set later on, as this makes the model less prone to extreme distribution changes in test examples, keeping the distribution of all examples almost the same all the time. \n",
    "\n",
    "In the cell below, we're performing this by subtracting the column mean from each example, and taking them over the standard diviation of the column:"
   ]
  },
  {
   "cell_type": "code",
   "execution_count": 312,
   "id": "a9651eb9-de30-4f5b-abde-6941ccfd5476",
   "metadata": {},
   "outputs": [
    {
     "name": "stdout",
     "output_type": "stream",
     "text": [
      "df_num_norm mean: \n",
      "\n",
      "Unnamed: 0                 -1.107101e-16\n",
      "MODELYEAR                            NaN\n",
      "ENGINESIZE                  5.326573e-15\n",
      "CYLINDERS                  -1.466337e-16\n",
      "FUELCONSUMPTION_CITY       -4.037383e-15\n",
      "FUELCONSUMPTION_HWY         4.665122e-16\n",
      "FUELCONSUMPTION_COMB       -2.787211e-15\n",
      "FUELCONSUMPTION_COMB_MPG   -2.527396e-16\n",
      "CO2EMISSIONS                4.002101e-16\n",
      "dtype: float64\n",
      "\n",
      "df_num_norm standard deviation: \n",
      "\n",
      "Unnamed: 0                  1.0\n",
      "MODELYEAR                   NaN\n",
      "ENGINESIZE                  1.0\n",
      "CYLINDERS                   1.0\n",
      "FUELCONSUMPTION_CITY        1.0\n",
      "FUELCONSUMPTION_HWY         1.0\n",
      "FUELCONSUMPTION_COMB        1.0\n",
      "FUELCONSUMPTION_COMB_MPG    1.0\n",
      "CO2EMISSIONS                1.0\n",
      "dtype: float64\n",
      "\n"
     ]
    },
    {
     "data": {
      "text/html": [
       "<div>\n",
       "<style scoped>\n",
       "    .dataframe tbody tr th:only-of-type {\n",
       "        vertical-align: middle;\n",
       "    }\n",
       "\n",
       "    .dataframe tbody tr th {\n",
       "        vertical-align: top;\n",
       "    }\n",
       "\n",
       "    .dataframe thead th {\n",
       "        text-align: right;\n",
       "    }\n",
       "</style>\n",
       "<table border=\"1\" class=\"dataframe\">\n",
       "  <thead>\n",
       "    <tr style=\"text-align: right;\">\n",
       "      <th></th>\n",
       "      <th>Unnamed: 0</th>\n",
       "      <th>MODELYEAR</th>\n",
       "      <th>ENGINESIZE</th>\n",
       "      <th>CYLINDERS</th>\n",
       "      <th>FUELCONSUMPTION_CITY</th>\n",
       "      <th>FUELCONSUMPTION_HWY</th>\n",
       "      <th>FUELCONSUMPTION_COMB</th>\n",
       "      <th>FUELCONSUMPTION_COMB_MPG</th>\n",
       "      <th>CO2EMISSIONS</th>\n",
       "    </tr>\n",
       "  </thead>\n",
       "  <tbody>\n",
       "    <tr>\n",
       "      <th>0</th>\n",
       "      <td>-1.729617</td>\n",
       "      <td>NaN</td>\n",
       "      <td>-0.950214</td>\n",
       "      <td>-1.010949</td>\n",
       "      <td>-0.828169</td>\n",
       "      <td>-0.992876</td>\n",
       "      <td>-0.883890</td>\n",
       "      <td>0.878141</td>\n",
       "      <td>-0.960111</td>\n",
       "    </tr>\n",
       "    <tr>\n",
       "      <th>1</th>\n",
       "      <td>-1.726372</td>\n",
       "      <td>NaN</td>\n",
       "      <td>-0.663149</td>\n",
       "      <td>-1.010949</td>\n",
       "      <td>-0.511193</td>\n",
       "      <td>-0.635031</td>\n",
       "      <td>-0.568305</td>\n",
       "      <td>0.342573</td>\n",
       "      <td>-0.564949</td>\n",
       "    </tr>\n",
       "    <tr>\n",
       "      <th>2</th>\n",
       "      <td>-1.723127</td>\n",
       "      <td>NaN</td>\n",
       "      <td>-1.309046</td>\n",
       "      <td>-1.010949</td>\n",
       "      <td>-1.779098</td>\n",
       "      <td>-1.314936</td>\n",
       "      <td>-1.629817</td>\n",
       "      <td>2.886522</td>\n",
       "      <td>-1.908498</td>\n",
       "    </tr>\n",
       "    <tr>\n",
       "      <th>3</th>\n",
       "      <td>-1.719882</td>\n",
       "      <td>NaN</td>\n",
       "      <td>0.126281</td>\n",
       "      <td>0.113779</td>\n",
       "      <td>-0.145451</td>\n",
       "      <td>-0.134049</td>\n",
       "      <td>-0.137962</td>\n",
       "      <td>-0.192995</td>\n",
       "      <td>NaN</td>\n",
       "    </tr>\n",
       "    <tr>\n",
       "      <th>4</th>\n",
       "      <td>-1.716637</td>\n",
       "      <td>NaN</td>\n",
       "      <td>0.126281</td>\n",
       "      <td>0.113779</td>\n",
       "      <td>-0.291748</td>\n",
       "      <td>-0.277187</td>\n",
       "      <td>-0.281410</td>\n",
       "      <td>0.074789</td>\n",
       "      <td>-0.201401</td>\n",
       "    </tr>\n",
       "    <tr>\n",
       "      <th>...</th>\n",
       "      <td>...</td>\n",
       "      <td>...</td>\n",
       "      <td>...</td>\n",
       "      <td>...</td>\n",
       "      <td>...</td>\n",
       "      <td>...</td>\n",
       "      <td>...</td>\n",
       "      <td>...</td>\n",
       "      <td>...</td>\n",
       "    </tr>\n",
       "    <tr>\n",
       "      <th>1062</th>\n",
       "      <td>1.716637</td>\n",
       "      <td>NaN</td>\n",
       "      <td>-0.232551</td>\n",
       "      <td>0.113779</td>\n",
       "      <td>0.025228</td>\n",
       "      <td>0.116442</td>\n",
       "      <td>0.062864</td>\n",
       "      <td>-0.326887</td>\n",
       "      <td>0.225373</td>\n",
       "    </tr>\n",
       "    <tr>\n",
       "      <th>1063</th>\n",
       "      <td>1.719882</td>\n",
       "      <td>NaN</td>\n",
       "      <td>-0.089018</td>\n",
       "      <td>0.113779</td>\n",
       "      <td>-0.023537</td>\n",
       "      <td>0.009089</td>\n",
       "      <td>-0.023204</td>\n",
       "      <td>-0.192995</td>\n",
       "      <td>0.114728</td>\n",
       "    </tr>\n",
       "    <tr>\n",
       "      <th>1064</th>\n",
       "      <td>1.723127</td>\n",
       "      <td>NaN</td>\n",
       "      <td>-0.232551</td>\n",
       "      <td>0.113779</td>\n",
       "      <td>0.025228</td>\n",
       "      <td>0.116442</td>\n",
       "      <td>0.062864</td>\n",
       "      <td>-0.326887</td>\n",
       "      <td>0.225373</td>\n",
       "    </tr>\n",
       "    <tr>\n",
       "      <th>1065</th>\n",
       "      <td>1.726372</td>\n",
       "      <td>NaN</td>\n",
       "      <td>-0.089018</td>\n",
       "      <td>0.113779</td>\n",
       "      <td>-0.096686</td>\n",
       "      <td>-0.062480</td>\n",
       "      <td>-0.080583</td>\n",
       "      <td>-0.192995</td>\n",
       "      <td>0.051502</td>\n",
       "    </tr>\n",
       "    <tr>\n",
       "      <th>1066</th>\n",
       "      <td>1.729617</td>\n",
       "      <td>NaN</td>\n",
       "      <td>-0.089018</td>\n",
       "      <td>0.113779</td>\n",
       "      <td>0.390970</td>\n",
       "      <td>0.259580</td>\n",
       "      <td>0.349759</td>\n",
       "      <td>-0.594672</td>\n",
       "      <td>0.588921</td>\n",
       "    </tr>\n",
       "  </tbody>\n",
       "</table>\n",
       "<p>1067 rows × 9 columns</p>\n",
       "</div>"
      ],
      "text/plain": [
       "      Unnamed: 0  MODELYEAR  ENGINESIZE  CYLINDERS  FUELCONSUMPTION_CITY  \\\n",
       "0      -1.729617        NaN   -0.950214  -1.010949             -0.828169   \n",
       "1      -1.726372        NaN   -0.663149  -1.010949             -0.511193   \n",
       "2      -1.723127        NaN   -1.309046  -1.010949             -1.779098   \n",
       "3      -1.719882        NaN    0.126281   0.113779             -0.145451   \n",
       "4      -1.716637        NaN    0.126281   0.113779             -0.291748   \n",
       "...          ...        ...         ...        ...                   ...   \n",
       "1062    1.716637        NaN   -0.232551   0.113779              0.025228   \n",
       "1063    1.719882        NaN   -0.089018   0.113779             -0.023537   \n",
       "1064    1.723127        NaN   -0.232551   0.113779              0.025228   \n",
       "1065    1.726372        NaN   -0.089018   0.113779             -0.096686   \n",
       "1066    1.729617        NaN   -0.089018   0.113779              0.390970   \n",
       "\n",
       "      FUELCONSUMPTION_HWY  FUELCONSUMPTION_COMB  FUELCONSUMPTION_COMB_MPG  \\\n",
       "0               -0.992876             -0.883890                  0.878141   \n",
       "1               -0.635031             -0.568305                  0.342573   \n",
       "2               -1.314936             -1.629817                  2.886522   \n",
       "3               -0.134049             -0.137962                 -0.192995   \n",
       "4               -0.277187             -0.281410                  0.074789   \n",
       "...                   ...                   ...                       ...   \n",
       "1062             0.116442              0.062864                 -0.326887   \n",
       "1063             0.009089             -0.023204                 -0.192995   \n",
       "1064             0.116442              0.062864                 -0.326887   \n",
       "1065            -0.062480             -0.080583                 -0.192995   \n",
       "1066             0.259580              0.349759                 -0.594672   \n",
       "\n",
       "      CO2EMISSIONS  \n",
       "0        -0.960111  \n",
       "1        -0.564949  \n",
       "2        -1.908498  \n",
       "3              NaN  \n",
       "4        -0.201401  \n",
       "...            ...  \n",
       "1062      0.225373  \n",
       "1063      0.114728  \n",
       "1064      0.225373  \n",
       "1065      0.051502  \n",
       "1066      0.588921  \n",
       "\n",
       "[1067 rows x 9 columns]"
      ]
     },
     "execution_count": 312,
     "metadata": {},
     "output_type": "execute_result"
    }
   ],
   "source": [
    "df_num_norm = (df_num - df_num.mean())/df_num.std()\n",
    "\n",
    "print('df_num_norm mean: \\n\\n{}\\n'.format(df_num_norm.mean()))\n",
    "print('df_num_norm standard deviation: \\n\\n{}\\n'.format(df_num_norm.std()))\n",
    "\n",
    "df_num_norm  #Print df_num_norm"
   ]
  },
  {
   "cell_type": "markdown",
   "id": "3d57632d-bb6f-4ea5-8553-2fd6d50e69fa",
   "metadata": {},
   "source": [
    "**Note**: `MODELYEAR` column has taken NaN values beacause of division by $std=0$."
   ]
  },
  {
   "cell_type": "markdown",
   "id": "f972111f-c34b-4410-97b7-4e16c5ac6bff",
   "metadata": {},
   "source": [
    "<font color='green'>\n",
    "As expected, every column has standard deviation of one and means much closer to zero."
   ]
  },
  {
   "cell_type": "markdown",
   "id": "e35c3b9f-4f2c-4d88-80ea-0f77d90b2e1c",
   "metadata": {},
   "source": [
    "### 4.3 - Linearity Check\n",
    "Here we find which features are more linear with the goal feature that we need to predict; so to better be able to predict based on that feature with a Linear Regression model.\n",
    "\n",
    "In the cell below, we plot the scatter chart of the `CO2EMISSIONS`, the goal column, with respect to all other fatures in `df_num_norm`. Also,we're using `Matplotlib` instead of vanilla raw `Pandas` for the plotting:"
   ]
  },
  {
   "cell_type": "code",
   "execution_count": 313,
   "id": "be25a1a8-0166-4536-aed9-b61994e4cb0c",
   "metadata": {},
   "outputs": [
    {
     "data": {
      "image/png": "[encoded data removed]",
      "text/plain": [
       "<Figure size 1296x720 with 7 Axes>"
      ]
     },
     "metadata": {
      "needs_background": "light"
     },
     "output_type": "display_data"
    }
   ],
   "source": [
    "fig = plt.figure(figsize=(18, 10))\n",
    "fig.suptitle('Scatter Plot of Features Against \\'CO2EMISSIONS\\'', fontsize=24)\n",
    "i = 0\n",
    "for col in df_num_norm:\n",
    "    if col=='CO2EMISSIONS' or col== 'Unnamed: 0':\n",
    "        continue\n",
    "    i += 1\n",
    "    plt.subplot(3, 3, i)\n",
    "    curr_arr = np.array(df_num_norm[col])\n",
    "    plt.scatter(curr_arr, df_num_norm['CO2EMISSIONS'])\n",
    "    plt.xlabel(col)\n",
    "    plt.ylabel('CO2EMISSIONS')"
   ]
  },
  {
   "cell_type": "markdown",
   "id": "3e0c23df-d664-47e8-b650-24fca44a1b92",
   "metadata": {},
   "source": [
    "<font color='blue'>\n",
    "Turns out from the above plots that `ENGINESIZE` is scattered most linear to the `CO2EMISSIONS` column in `df_num_norm`. Note that `MODELYEAR` has taken NaN values and therefore not plotted against."
   ]
  },
  {
   "cell_type": "markdown",
   "id": "9747a256-1375-4d93-b80d-e6ae6ffcdc19",
   "metadata": {},
   "source": [
    "**Note**: We selected `ENGINESIZE` because it seems like <u>one line</u> can fit `CO2EMISSIONS` well based on the `ENGINESIZE` feature.\n",
    "\n",
    "Now we make a new dataframe out of the two features selected: `CO2EMISSIONS`and `ENGINESIZE`:"
   ]
  },
  {
   "cell_type": "code",
   "execution_count": 314,
   "id": "ccf5c42c-12b6-4380-b5c0-c39453cf9a65",
   "metadata": {},
   "outputs": [
    {
     "data": {
      "text/html": [
       "<div>\n",
       "<style scoped>\n",
       "    .dataframe tbody tr th:only-of-type {\n",
       "        vertical-align: middle;\n",
       "    }\n",
       "\n",
       "    .dataframe tbody tr th {\n",
       "        vertical-align: top;\n",
       "    }\n",
       "\n",
       "    .dataframe thead th {\n",
       "        text-align: right;\n",
       "    }\n",
       "</style>\n",
       "<table border=\"1\" class=\"dataframe\">\n",
       "  <thead>\n",
       "    <tr style=\"text-align: right;\">\n",
       "      <th></th>\n",
       "      <th>ENGINESIZE</th>\n",
       "      <th>CO2EMISSIONS</th>\n",
       "    </tr>\n",
       "  </thead>\n",
       "  <tbody>\n",
       "    <tr>\n",
       "      <th>0</th>\n",
       "      <td>-0.950214</td>\n",
       "      <td>-0.960111</td>\n",
       "    </tr>\n",
       "    <tr>\n",
       "      <th>1</th>\n",
       "      <td>-0.663149</td>\n",
       "      <td>-0.564949</td>\n",
       "    </tr>\n",
       "    <tr>\n",
       "      <th>2</th>\n",
       "      <td>-1.309046</td>\n",
       "      <td>-1.908498</td>\n",
       "    </tr>\n",
       "    <tr>\n",
       "      <th>3</th>\n",
       "      <td>0.126281</td>\n",
       "      <td>NaN</td>\n",
       "    </tr>\n",
       "    <tr>\n",
       "      <th>4</th>\n",
       "      <td>0.126281</td>\n",
       "      <td>-0.201401</td>\n",
       "    </tr>\n",
       "    <tr>\n",
       "      <th>...</th>\n",
       "      <td>...</td>\n",
       "      <td>...</td>\n",
       "    </tr>\n",
       "    <tr>\n",
       "      <th>1062</th>\n",
       "      <td>-0.232551</td>\n",
       "      <td>0.225373</td>\n",
       "    </tr>\n",
       "    <tr>\n",
       "      <th>1063</th>\n",
       "      <td>-0.089018</td>\n",
       "      <td>0.114728</td>\n",
       "    </tr>\n",
       "    <tr>\n",
       "      <th>1064</th>\n",
       "      <td>-0.232551</td>\n",
       "      <td>0.225373</td>\n",
       "    </tr>\n",
       "    <tr>\n",
       "      <th>1065</th>\n",
       "      <td>-0.089018</td>\n",
       "      <td>0.051502</td>\n",
       "    </tr>\n",
       "    <tr>\n",
       "      <th>1066</th>\n",
       "      <td>-0.089018</td>\n",
       "      <td>0.588921</td>\n",
       "    </tr>\n",
       "  </tbody>\n",
       "</table>\n",
       "<p>1067 rows × 2 columns</p>\n",
       "</div>"
      ],
      "text/plain": [
       "      ENGINESIZE  CO2EMISSIONS\n",
       "0      -0.950214     -0.960111\n",
       "1      -0.663149     -0.564949\n",
       "2      -1.309046     -1.908498\n",
       "3       0.126281           NaN\n",
       "4       0.126281     -0.201401\n",
       "...          ...           ...\n",
       "1062   -0.232551      0.225373\n",
       "1063   -0.089018      0.114728\n",
       "1064   -0.232551      0.225373\n",
       "1065   -0.089018      0.051502\n",
       "1066   -0.089018      0.588921\n",
       "\n",
       "[1067 rows x 2 columns]"
      ]
     },
     "execution_count": 314,
     "metadata": {},
     "output_type": "execute_result"
    }
   ],
   "source": [
    "lr_df = df_num_norm[['ENGINESIZE', 'CO2EMISSIONS']]\n",
    "lr_df"
   ]
  },
  {
   "cell_type": "markdown",
   "id": "eaf1cf0a-4daf-4a92-a77f-4e696d9d7536",
   "metadata": {},
   "source": [
    "### 4.4 - Hypothesis\n",
    "$h_\\theta$ would be our hypothesis that would be used to predict the `CO2EMISSIONS`. The below function calculated the hypothesis:"
   ]
  },
  {
   "cell_type": "code",
   "execution_count": 315,
   "id": "0c25d25f-320f-482d-af04-69f0fd64238d",
   "metadata": {},
   "outputs": [],
   "source": [
    "def hypothesis(X, theta):\n",
    "    if len(theta) != 2:\n",
    "        raise Exception('Theta not in expected shape.')\n",
    "    return theta[0] * X + theta[1]"
   ]
  },
  {
   "cell_type": "markdown",
   "id": "54713cd4-d1af-4471-b92b-2544558cb65c",
   "metadata": {},
   "source": [
    "### 4.5 - Cost\n",
    "Here we use Mean Square Error (MSE) for the cost calculation. The function would be defined as:\n",
    "\n",
    "$$\\frac{1}{N}\\sum{(y_i-h_\\theta(x))^2}$$ where $h_\\theta$ is the hypothesis function applied to each example and $y_i$ is the target value. The following function computes the cost. Here we use vectorized operations for cost calculation. This ensures further optimization of speed as we won't iterate across all data examples."
   ]
  },
  {
   "cell_type": "code",
   "execution_count": 316,
   "id": "0401949d-dcfe-4d0d-833b-3efef5478f1f",
   "metadata": {},
   "outputs": [],
   "source": [
    "def cost(X, Y, theta):\n",
    "    h_theta = hypothesis(X, theta)\n",
    "    return ((Y - h_theta)**2).sum()/X.shape[0]"
   ]
  },
  {
   "cell_type": "markdown",
   "id": "ec5c56ae-3655-4968-9f8e-ba072e1ee949",
   "metadata": {},
   "source": [
    "### 4.6 - Getting Train/Test Sets\n",
    "Here we would take all rows with values not missing in the `CO2EMISSION` column of `lr_df` as train set. The rest of the examples will comprimise our test set for future use."
   ]
  },
  {
   "cell_type": "code",
   "execution_count": 317,
   "id": "13d42c8e-e234-4e5f-9580-82a0c7ea7beb",
   "metadata": {},
   "outputs": [
    {
     "name": "stdout",
     "output_type": "stream",
     "text": [
      "train_X shape is: (964,)\n",
      "test_X shape is: (103,)\n",
      "\n",
      "train_Y shape is: (964,)\n",
      "test_Y shape is: (103,)\n"
     ]
    }
   ],
   "source": [
    "lr_df_nan = lr_df.isna().any(axis=1) # Select which rows have NaN values (by implication in `CO2EMISSIONS` column)\n",
    "\n",
    "train_X = (lr_df[lr_df.isna().any(axis=1) == 0])['ENGINESIZE']\n",
    "test_X = (lr_df[lr_df.isna().any(axis=1) == 1])['ENGINESIZE']\n",
    "\n",
    "train_Y = (lr_df[lr_df.isna().any(axis=1) == 0])['CO2EMISSIONS']\n",
    "test_Y = (lr_df[lr_df.isna().any(axis=1) == 1])['CO2EMISSIONS']\n",
    "\n",
    "print('train_X shape is: {}'.format(train_X.shape))\n",
    "print('test_X shape is: {}\\n'.format(test_X.shape))\n",
    "\n",
    "print('train_Y shape is: {}'.format(train_Y.shape))\n",
    "print('test_Y shape is: {}'.format(test_Y.shape))"
   ]
  },
  {
   "cell_type": "markdown",
   "id": "957fa266-67a3-40af-81fe-8488375b8585",
   "metadata": {},
   "source": [
    "<font color='green'>\n",
    "Train/test examples have been successfully seperated in form of X and Y sets."
   ]
  },
  {
   "cell_type": "markdown",
   "id": "3478941b-8b6e-4789-ac0f-24adcd891b82",
   "metadata": {},
   "source": [
    "**Note**: We later make test prediction results unnormalized by doing the inverse computations."
   ]
  },
  {
   "cell_type": "markdown",
   "id": "35a84aa3-210a-497d-a5e9-04c4141c5adc",
   "metadata": {},
   "source": [
    "### 4.7 - Optimization\n",
    "Here we don't actually train the model through back-propagation. We instead calculate cost using random theta and select a theta with the least computed cost as optimal. Note that the error may not be fully minimized, but taking enough random values for theta, hopefully we can approach a well optimized cost.\n",
    "\n",
    "Here we use random vectors for theta and compute cost based on each until we reach a cost of less than `0.5`. We later will take this cost as optimal and predict based on the corresponding theta vector for that cost. We also use a certain random seed to get consistent results across all executions."
   ]
  },
  {
   "cell_type": "code",
   "execution_count": 318,
   "id": "bfa1a26b-70c0-44ca-a5ad-0537a1333544",
   "metadata": {},
   "outputs": [
    {
     "name": "stdout",
     "output_type": "stream",
     "text": [
      "Computed cost: 0.2654364334772353\n",
      "Final Theta: [ 0.88617718 -0.07695464]\n"
     ]
    }
   ],
   "source": [
    "np.random.seed(10289) # Set random seed for results to be consistent\n",
    "Theta = [0, 0]\n",
    "min_cost = 0.5 # No cost value larger than 0.5 is acceptable.\n",
    "while(True):\n",
    "    theta = np.random.randn(2)\n",
    "    c = cost(train_X, train_Y, theta)\n",
    "    if c < min_cost:\n",
    "        min_cost = c\n",
    "        Theta = theta\n",
    "        break\n",
    "        \n",
    "print('Computed cost: {}'.format(min_cost))\n",
    "print('Final Theta: {}'.format(Theta))"
   ]
  },
  {
   "cell_type": "markdown",
   "id": "ee925aa5-ec55-4146-9e06-ce1d3af42122",
   "metadata": {},
   "source": [
    "<font color='green'>\n",
    "The cost is $\\approx0.23<0.5$ which obviously fits our need.\n",
    "\n",
    "<font color='black'>\n",
    "\n",
    "\n",
    "<b>Note</b>: Here we used small (near zero) values for Theta as our data is normalized and seems like normalized values for `Theta` also work well for cost optimization."
   ]
  },
  {
   "cell_type": "code",
   "execution_count": 319,
   "id": "62cd626f-646b-42d3-90bd-e541a20dca01",
   "metadata": {},
   "outputs": [
    {
     "data": {
      "image/png": "[encoded data removed]",
      "text/plain": [
       "<Figure size 432x288 with 1 Axes>"
      ]
     },
     "metadata": {
      "needs_background": "light"
     },
     "output_type": "display_data"
    }
   ],
   "source": [
    "plt.scatter(train_X, train_Y)\n",
    "\n",
    "x = np.arange(train_X.min(), train_X.max())\n",
    "plt.plot(x, x*Theta[0] + Theta[1], 'r')\n",
    "\n",
    "plt.title('Prediction On Train Set (Normalized)', fontsize=12)\n",
    "plt.xlabel('ENGINESIZE')\n",
    "plt.ylabel('CO2EMISSIONS')\n",
    "\n",
    "plt.show()"
   ]
  },
  {
   "cell_type": "markdown",
   "id": "f269ea4c-e6fb-47c2-b97a-dabad1622068",
   "metadata": {},
   "source": [
    "<font color='blue'>\n",
    "The above chart shows how our linear model predicts `CO2EMISSIONS` on the training set. The red line seemingly fits well through the training examples."
   ]
  },
  {
   "cell_type": "markdown",
   "id": "f63d2df7-2a79-4309-88c5-602cbc955b43",
   "metadata": {},
   "source": [
    "### 4.8 - Test Set Prediction\n",
    "We now use the developed linear model to predict values of `CO2EMISSIONS` on the test set. In the following cell, we apply this linear function to each training eample in the test set for prediction:"
   ]
  },
  {
   "cell_type": "code",
   "execution_count": 320,
   "id": "9d5aa18b-ae27-4e07-8c0c-cd0c3f1ce9c7",
   "metadata": {},
   "outputs": [
    {
     "data": {
      "image/png": "[encoded data removed]",
      "text/plain": [
       "<Figure size 432x288 with 1 Axes>"
      ]
     },
     "metadata": {
      "needs_background": "light"
     },
     "output_type": "display_data"
    },
    {
     "name": "stdout",
     "output_type": "stream",
     "text": [
      "\n",
      "Predicted values on the test set:\n",
      "\n"
     ]
    },
    {
     "data": {
      "text/plain": [
       "3       258.953003\n",
       "20      198.600088\n",
       "30      238.835365\n",
       "42      238.835365\n",
       "43      238.835365\n",
       "           ...    \n",
       "1022    198.600088\n",
       "1027    198.600088\n",
       "1051    198.600088\n",
       "1052    198.600088\n",
       "1053    198.600088\n",
       "Name: ENGINESIZE, Length: 103, dtype: float64"
      ]
     },
     "execution_count": 320,
     "metadata": {},
     "output_type": "execute_result"
    }
   ],
   "source": [
    "# We multiply by stand deviation and add the mean of the respective column so to make unnormalized predictions.\n",
    "h_theta = (test_X * Theta[0] + Theta[1]) * df_num.std()['CO2EMISSIONS'] + df_num.mean()['CO2EMISSIONS']\n",
    "plt.plot(test_X * df_num.std()['ENGINESIZE'] + df_num.mean()['ENGINESIZE'], h_theta, 'rx')\n",
    "\n",
    "plt.title('Prediction On Test Set (Unnormalized)', fontsize=12)\n",
    "plt.xlabel('ENGINESIZE')\n",
    "plt.ylabel('CO2EMISSIONS')\n",
    "plt.show()\n",
    "\n",
    "print('\\nPredicted values on the test set:\\n')\n",
    "h_theta"
   ]
  },
  {
   "cell_type": "markdown",
   "id": "21b3e95d-0517-4077-baad-6ed15e663260",
   "metadata": {},
   "source": [
    "We also save the predicted values of `CO2EMISSION` in a csv file:"
   ]
  },
  {
   "cell_type": "code",
   "execution_count": 327,
   "id": "404bb3f6-fc68-450a-9c5a-07cc9593f4aa",
   "metadata": {},
   "outputs": [],
   "source": [
    "h_theta.to_csv('pred_out.csv')"
   ]
  },
  {
   "cell_type": "markdown",
   "id": "9d83ccdd-85b9-4afc-899c-ebef4ad5ffa6",
   "metadata": {},
   "source": [
    "<font color='green'>\n",
    "The model is predicting on the test set in a linear basis. The linear prediction has been successful."
   ]
  },
  {
   "cell_type": "markdown",
   "id": "62e609fe-14a8-44ec-8924-edaac227cf34",
   "metadata": {},
   "source": [
    "## Conclusion\n",
    "In this notebook, we developed a model for `CO2EMISSIONS` prediction on the derived test set with respect to the `ENGINESIZE` column. `ENGINESIZE` was selected based on a linearity comparison of all features in the dataset with respect to the target column, as this was the most linear. We then used this featue as the training `X` for `CO2EMISSIONS` prediction and took out an semi-optimized $\\theta$ vector for linear modelling and used that for test set prediction.\n",
    "\n",
    "**Note**: We also went through a number of other steps like normalization and distribution visualization in terms of histograms along the project that were essential for better final prediction.\n",
    "\n",
    "If we'd used other non-linear functions for this target prediction, we'd pottentially got better results along the train/test sets and would rather get much smaller values for the cost, which could be taken as a solution for model improvement. Our current model is rather suffering from a high-bias problem as it's not predicting much well along even our train set. This colud be treated using a more complex model."
   ]
  },
  {
   "cell_type": "markdown",
   "id": "dd084c21-0d96-4633-84b2-325b4d722d69",
   "metadata": {},
   "source": [
    "## References\n",
    "- [Pandas Documentation](https://pandas.pydata.org/)\n",
    "- [How do I set the figure title and axes labels font size in Matplotlib?](https://stackoverflow.com/questions/12444716/how-do-i-set-the-figure-title-and-axes-labels-font-size-in-matplotlib)"
   ]
  }
 ],
 "metadata": {
  "kernelspec": {
   "display_name": "Python 3",
   "language": "python",
   "name": "python3"
  },
  "language_info": {
   "codemirror_mode": {
    "name": "ipython",
    "version": 3
   },
   "file_extension": ".py",
   "mimetype": "text/x-python",
   "name": "python",
   "nbconvert_exporter": "python",
   "pygments_lexer": "ipython3",
   "version": "3.8.8"
  }
 },
 "nbformat": 4,
 "nbformat_minor": 5
}
